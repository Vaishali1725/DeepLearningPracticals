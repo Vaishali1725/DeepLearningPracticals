{
 "cells": [
  {
   "cell_type": "code",
   "execution_count": 51,
   "id": "civilian-leave",
   "metadata": {},
   "outputs": [],
   "source": [
    "import tensorflow as tf\n",
    "import keras\n",
    "import pandas\n",
    "import sklearn\n",
    "import matplotlib"
   ]
  },
  {
   "cell_type": "code",
   "execution_count": 52,
   "id": "lovely-texas",
   "metadata": {},
   "outputs": [],
   "source": [
    "import pandas as pd"
   ]
  },
  {
   "cell_type": "code",
   "execution_count": 53,
   "id": "specialized-coach",
   "metadata": {},
   "outputs": [],
   "source": [
    "df = pd.read_csv('housepricedata.csv')"
   ]
  },
  {
   "cell_type": "code",
   "execution_count": 54,
   "id": "included-applicant",
   "metadata": {},
   "outputs": [
    {
     "data": {
      "text/html": [
       "<div>\n",
       "<style scoped>\n",
       "    .dataframe tbody tr th:only-of-type {\n",
       "        vertical-align: middle;\n",
       "    }\n",
       "\n",
       "    .dataframe tbody tr th {\n",
       "        vertical-align: top;\n",
       "    }\n",
       "\n",
       "    .dataframe thead th {\n",
       "        text-align: right;\n",
       "    }\n",
       "</style>\n",
       "<table border=\"1\" class=\"dataframe\">\n",
       "  <thead>\n",
       "    <tr style=\"text-align: right;\">\n",
       "      <th></th>\n",
       "      <th>LotArea</th>\n",
       "      <th>OverallQual</th>\n",
       "      <th>OverallCond</th>\n",
       "      <th>TotalBsmtSF</th>\n",
       "      <th>FullBath</th>\n",
       "      <th>HalfBath</th>\n",
       "      <th>BedroomAbvGr</th>\n",
       "      <th>TotRmsAbvGrd</th>\n",
       "      <th>Fireplaces</th>\n",
       "      <th>GarageArea</th>\n",
       "      <th>AboveMedianPrice</th>\n",
       "    </tr>\n",
       "  </thead>\n",
       "  <tbody>\n",
       "    <tr>\n",
       "      <th>0</th>\n",
       "      <td>8450</td>\n",
       "      <td>7</td>\n",
       "      <td>5</td>\n",
       "      <td>856</td>\n",
       "      <td>2</td>\n",
       "      <td>1</td>\n",
       "      <td>3</td>\n",
       "      <td>8</td>\n",
       "      <td>0</td>\n",
       "      <td>548</td>\n",
       "      <td>1</td>\n",
       "    </tr>\n",
       "    <tr>\n",
       "      <th>1</th>\n",
       "      <td>9600</td>\n",
       "      <td>6</td>\n",
       "      <td>8</td>\n",
       "      <td>1262</td>\n",
       "      <td>2</td>\n",
       "      <td>0</td>\n",
       "      <td>3</td>\n",
       "      <td>6</td>\n",
       "      <td>1</td>\n",
       "      <td>460</td>\n",
       "      <td>1</td>\n",
       "    </tr>\n",
       "    <tr>\n",
       "      <th>2</th>\n",
       "      <td>11250</td>\n",
       "      <td>7</td>\n",
       "      <td>5</td>\n",
       "      <td>920</td>\n",
       "      <td>2</td>\n",
       "      <td>1</td>\n",
       "      <td>3</td>\n",
       "      <td>6</td>\n",
       "      <td>1</td>\n",
       "      <td>608</td>\n",
       "      <td>1</td>\n",
       "    </tr>\n",
       "    <tr>\n",
       "      <th>3</th>\n",
       "      <td>9550</td>\n",
       "      <td>7</td>\n",
       "      <td>5</td>\n",
       "      <td>756</td>\n",
       "      <td>1</td>\n",
       "      <td>0</td>\n",
       "      <td>3</td>\n",
       "      <td>7</td>\n",
       "      <td>1</td>\n",
       "      <td>642</td>\n",
       "      <td>0</td>\n",
       "    </tr>\n",
       "    <tr>\n",
       "      <th>4</th>\n",
       "      <td>14260</td>\n",
       "      <td>8</td>\n",
       "      <td>5</td>\n",
       "      <td>1145</td>\n",
       "      <td>2</td>\n",
       "      <td>1</td>\n",
       "      <td>4</td>\n",
       "      <td>9</td>\n",
       "      <td>1</td>\n",
       "      <td>836</td>\n",
       "      <td>1</td>\n",
       "    </tr>\n",
       "    <tr>\n",
       "      <th>...</th>\n",
       "      <td>...</td>\n",
       "      <td>...</td>\n",
       "      <td>...</td>\n",
       "      <td>...</td>\n",
       "      <td>...</td>\n",
       "      <td>...</td>\n",
       "      <td>...</td>\n",
       "      <td>...</td>\n",
       "      <td>...</td>\n",
       "      <td>...</td>\n",
       "      <td>...</td>\n",
       "    </tr>\n",
       "    <tr>\n",
       "      <th>1455</th>\n",
       "      <td>7917</td>\n",
       "      <td>6</td>\n",
       "      <td>5</td>\n",
       "      <td>953</td>\n",
       "      <td>2</td>\n",
       "      <td>1</td>\n",
       "      <td>3</td>\n",
       "      <td>7</td>\n",
       "      <td>1</td>\n",
       "      <td>460</td>\n",
       "      <td>1</td>\n",
       "    </tr>\n",
       "    <tr>\n",
       "      <th>1456</th>\n",
       "      <td>13175</td>\n",
       "      <td>6</td>\n",
       "      <td>6</td>\n",
       "      <td>1542</td>\n",
       "      <td>2</td>\n",
       "      <td>0</td>\n",
       "      <td>3</td>\n",
       "      <td>7</td>\n",
       "      <td>2</td>\n",
       "      <td>500</td>\n",
       "      <td>1</td>\n",
       "    </tr>\n",
       "    <tr>\n",
       "      <th>1457</th>\n",
       "      <td>9042</td>\n",
       "      <td>7</td>\n",
       "      <td>9</td>\n",
       "      <td>1152</td>\n",
       "      <td>2</td>\n",
       "      <td>0</td>\n",
       "      <td>4</td>\n",
       "      <td>9</td>\n",
       "      <td>2</td>\n",
       "      <td>252</td>\n",
       "      <td>1</td>\n",
       "    </tr>\n",
       "    <tr>\n",
       "      <th>1458</th>\n",
       "      <td>9717</td>\n",
       "      <td>5</td>\n",
       "      <td>6</td>\n",
       "      <td>1078</td>\n",
       "      <td>1</td>\n",
       "      <td>0</td>\n",
       "      <td>2</td>\n",
       "      <td>5</td>\n",
       "      <td>0</td>\n",
       "      <td>240</td>\n",
       "      <td>0</td>\n",
       "    </tr>\n",
       "    <tr>\n",
       "      <th>1459</th>\n",
       "      <td>9937</td>\n",
       "      <td>5</td>\n",
       "      <td>6</td>\n",
       "      <td>1256</td>\n",
       "      <td>1</td>\n",
       "      <td>1</td>\n",
       "      <td>3</td>\n",
       "      <td>6</td>\n",
       "      <td>0</td>\n",
       "      <td>276</td>\n",
       "      <td>0</td>\n",
       "    </tr>\n",
       "  </tbody>\n",
       "</table>\n",
       "<p>1460 rows × 11 columns</p>\n",
       "</div>"
      ],
      "text/plain": [
       "      LotArea  OverallQual  OverallCond  TotalBsmtSF  FullBath  HalfBath  \\\n",
       "0        8450            7            5          856         2         1   \n",
       "1        9600            6            8         1262         2         0   \n",
       "2       11250            7            5          920         2         1   \n",
       "3        9550            7            5          756         1         0   \n",
       "4       14260            8            5         1145         2         1   \n",
       "...       ...          ...          ...          ...       ...       ...   \n",
       "1455     7917            6            5          953         2         1   \n",
       "1456    13175            6            6         1542         2         0   \n",
       "1457     9042            7            9         1152         2         0   \n",
       "1458     9717            5            6         1078         1         0   \n",
       "1459     9937            5            6         1256         1         1   \n",
       "\n",
       "      BedroomAbvGr  TotRmsAbvGrd  Fireplaces  GarageArea  AboveMedianPrice  \n",
       "0                3             8           0         548                 1  \n",
       "1                3             6           1         460                 1  \n",
       "2                3             6           1         608                 1  \n",
       "3                3             7           1         642                 0  \n",
       "4                4             9           1         836                 1  \n",
       "...            ...           ...         ...         ...               ...  \n",
       "1455             3             7           1         460                 1  \n",
       "1456             3             7           2         500                 1  \n",
       "1457             4             9           2         252                 1  \n",
       "1458             2             5           0         240                 0  \n",
       "1459             3             6           0         276                 0  \n",
       "\n",
       "[1460 rows x 11 columns]"
      ]
     },
     "execution_count": 54,
     "metadata": {},
     "output_type": "execute_result"
    }
   ],
   "source": [
    "df"
   ]
  },
  {
   "cell_type": "code",
   "execution_count": 34,
   "id": "employed-child",
   "metadata": {},
   "outputs": [],
   "source": [
    "dataset = df.values"
   ]
  },
  {
   "cell_type": "code",
   "execution_count": 35,
   "id": "global-receipt",
   "metadata": {},
   "outputs": [
    {
     "data": {
      "text/plain": [
       "array([[ 8450,     7,     5, ...,     0,   548,     1],\n",
       "       [ 9600,     6,     8, ...,     1,   460,     1],\n",
       "       [11250,     7,     5, ...,     1,   608,     1],\n",
       "       ...,\n",
       "       [ 9042,     7,     9, ...,     2,   252,     1],\n",
       "       [ 9717,     5,     6, ...,     0,   240,     0],\n",
       "       [ 9937,     5,     6, ...,     0,   276,     0]], dtype=int64)"
      ]
     },
     "execution_count": 35,
     "metadata": {},
     "output_type": "execute_result"
    }
   ],
   "source": [
    "dataset"
   ]
  },
  {
   "cell_type": "code",
   "execution_count": 36,
   "id": "bulgarian-guide",
   "metadata": {},
   "outputs": [],
   "source": [
    "X = dataset[:,0:10]\n",
    "Y = dataset[:,10]"
   ]
  },
  {
   "cell_type": "code",
   "execution_count": 37,
   "id": "municipal-transition",
   "metadata": {},
   "outputs": [],
   "source": [
    "from sklearn import preprocessing\n",
    "min_max_scaler = preprocessing.MinMaxScaler()\n",
    "X_scale = min_max_scaler.fit_transform(X)"
   ]
  },
  {
   "cell_type": "code",
   "execution_count": 38,
   "id": "specific-tanzania",
   "metadata": {},
   "outputs": [
    {
     "data": {
      "text/plain": [
       "array([[0.0334198 , 0.66666667, 0.5       , ..., 0.5       , 0.        ,\n",
       "        0.3864598 ],\n",
       "       [0.03879502, 0.55555556, 0.875     , ..., 0.33333333, 0.33333333,\n",
       "        0.32440056],\n",
       "       [0.04650728, 0.66666667, 0.5       , ..., 0.33333333, 0.33333333,\n",
       "        0.42877292],\n",
       "       ...,\n",
       "       [0.03618687, 0.66666667, 1.        , ..., 0.58333333, 0.66666667,\n",
       "        0.17771509],\n",
       "       [0.03934189, 0.44444444, 0.625     , ..., 0.25      , 0.        ,\n",
       "        0.16925247],\n",
       "       [0.04037019, 0.44444444, 0.625     , ..., 0.33333333, 0.        ,\n",
       "        0.19464034]])"
      ]
     },
     "execution_count": 38,
     "metadata": {},
     "output_type": "execute_result"
    }
   ],
   "source": [
    "X_scale"
   ]
  },
  {
   "cell_type": "code",
   "execution_count": 39,
   "id": "oriental-developer",
   "metadata": {},
   "outputs": [],
   "source": [
    "from sklearn.model_selection import train_test_split"
   ]
  },
  {
   "cell_type": "code",
   "execution_count": 40,
   "id": "decreased-circuit",
   "metadata": {},
   "outputs": [],
   "source": [
    "X_train, X_val_and_test, Y_train, Y_val_and_test = train_test_split(X_scale, Y, test_size=0.3)"
   ]
  },
  {
   "cell_type": "code",
   "execution_count": 41,
   "id": "surprised-ghana",
   "metadata": {},
   "outputs": [],
   "source": [
    "X_val, X_test, Y_val, Y_test = train_test_split(X_val_and_test, Y_val_and_test, test_size=0.5)"
   ]
  },
  {
   "cell_type": "code",
   "execution_count": 42,
   "id": "urban-provider",
   "metadata": {},
   "outputs": [
    {
     "name": "stdout",
     "output_type": "stream",
     "text": [
      "(1022, 10) (219, 10) (219, 10) (1022,) (219,) (219,)\n"
     ]
    }
   ],
   "source": [
    "print(X_train.shape, X_val.shape, X_test.shape, Y_train.shape, Y_val.shape, Y_test.shape)"
   ]
  },
  {
   "cell_type": "code",
   "execution_count": 43,
   "id": "disabled-labor",
   "metadata": {},
   "outputs": [],
   "source": [
    "from keras.models import Sequential\n",
    "from keras.layers import Dense"
   ]
  },
  {
   "cell_type": "code",
   "execution_count": 44,
   "id": "looking-attack",
   "metadata": {},
   "outputs": [],
   "source": [
    "model = Sequential([\n",
    "    Dense(32, activation='relu', input_shape=(10,)),\n",
    "    Dense(32, activation='relu'),\n",
    "    Dense(1, activation='sigmoid'),\n",
    "])"
   ]
  },
  {
   "cell_type": "code",
   "execution_count": 45,
   "id": "interested-academy",
   "metadata": {},
   "outputs": [],
   "source": [
    "model.compile(optimizer='sgd',\n",
    "              loss='binary_crossentropy',\n",
    "              metrics=['accuracy'])"
   ]
  },
  {
   "cell_type": "code",
   "execution_count": 46,
   "id": "motivated-savings",
   "metadata": {},
   "outputs": [
    {
     "name": "stdout",
     "output_type": "stream",
     "text": [
      "Epoch 1/100\n",
      "32/32 [==============================] - 2s 64ms/step - loss: 0.6703 - accuracy: 0.4971 - val_loss: 0.6730 - val_accuracy: 0.4658\n",
      "Epoch 2/100\n",
      "32/32 [==============================] - 1s 20ms/step - loss: 0.6661 - accuracy: 0.5020 - val_loss: 0.6687 - val_accuracy: 0.4886\n",
      "Epoch 3/100\n",
      "32/32 [==============================] - 0s 4ms/step - loss: 0.6623 - accuracy: 0.5382 - val_loss: 0.6643 - val_accuracy: 0.5662\n",
      "Epoch 4/100\n",
      "32/32 [==============================] - 0s 11ms/step - loss: 0.6578 - accuracy: 0.6331 - val_loss: 0.6595 - val_accuracy: 0.6301\n",
      "Epoch 5/100\n",
      "32/32 [==============================] - 1s 16ms/step - loss: 0.6531 - accuracy: 0.7016 - val_loss: 0.6544 - val_accuracy: 0.7032\n",
      "Epoch 6/100\n",
      "32/32 [==============================] - 0s 9ms/step - loss: 0.6478 - accuracy: 0.7162 - val_loss: 0.6490 - val_accuracy: 0.7169\n",
      "Epoch 7/100\n",
      "32/32 [==============================] - 0s 8ms/step - loss: 0.6428 - accuracy: 0.7436 - val_loss: 0.6443 - val_accuracy: 0.7306\n",
      "Epoch 8/100\n",
      "32/32 [==============================] - 0s 8ms/step - loss: 0.6379 - accuracy: 0.7485 - val_loss: 0.6395 - val_accuracy: 0.7489\n",
      "Epoch 9/100\n",
      "32/32 [==============================] - 1s 16ms/step - loss: 0.6330 - accuracy: 0.7750 - val_loss: 0.6346 - val_accuracy: 0.7580\n",
      "Epoch 10/100\n",
      "32/32 [==============================] - 1s 18ms/step - loss: 0.6280 - accuracy: 0.7681 - val_loss: 0.6294 - val_accuracy: 0.8037\n",
      "Epoch 11/100\n",
      "32/32 [==============================] - 0s 8ms/step - loss: 0.6230 - accuracy: 0.8033 - val_loss: 0.6242 - val_accuracy: 0.8037\n",
      "Epoch 12/100\n",
      "32/32 [==============================] - 0s 10ms/step - loss: 0.6173 - accuracy: 0.8141 - val_loss: 0.6186 - val_accuracy: 0.8082\n",
      "Epoch 13/100\n",
      "32/32 [==============================] - 0s 10ms/step - loss: 0.6115 - accuracy: 0.8229 - val_loss: 0.6127 - val_accuracy: 0.8082\n",
      "Epoch 14/100\n",
      "32/32 [==============================] - 0s 8ms/step - loss: 0.6050 - accuracy: 0.8229 - val_loss: 0.6056 - val_accuracy: 0.8219\n",
      "Epoch 15/100\n",
      "32/32 [==============================] - 0s 2ms/step - loss: 0.5978 - accuracy: 0.8386 - val_loss: 0.5983 - val_accuracy: 0.8265\n",
      "Epoch 16/100\n",
      "32/32 [==============================] - 0s 5ms/step - loss: 0.5903 - accuracy: 0.8474 - val_loss: 0.5910 - val_accuracy: 0.8265\n",
      "Epoch 17/100\n",
      "32/32 [==============================] - 1s 17ms/step - loss: 0.5827 - accuracy: 0.8444 - val_loss: 0.5829 - val_accuracy: 0.8265\n",
      "Epoch 18/100\n",
      "32/32 [==============================] - 0s 7ms/step - loss: 0.5748 - accuracy: 0.8474 - val_loss: 0.5748 - val_accuracy: 0.8311\n",
      "Epoch 19/100\n",
      "32/32 [==============================] - 0s 7ms/step - loss: 0.5668 - accuracy: 0.8513 - val_loss: 0.5660 - val_accuracy: 0.8493\n",
      "Epoch 20/100\n",
      "32/32 [==============================] - 0s 6ms/step - loss: 0.5582 - accuracy: 0.8493 - val_loss: 0.5574 - val_accuracy: 0.8493\n",
      "Epoch 21/100\n",
      "32/32 [==============================] - 0s 9ms/step - loss: 0.5494 - accuracy: 0.8503 - val_loss: 0.5486 - val_accuracy: 0.8539\n",
      "Epoch 22/100\n",
      "32/32 [==============================] - 0s 9ms/step - loss: 0.5407 - accuracy: 0.8503 - val_loss: 0.5394 - val_accuracy: 0.8539\n",
      "Epoch 23/100\n",
      "32/32 [==============================] - 0s 10ms/step - loss: 0.5316 - accuracy: 0.8552 - val_loss: 0.5299 - val_accuracy: 0.8493\n",
      "Epoch 24/100\n",
      "32/32 [==============================] - 0s 13ms/step - loss: 0.5225 - accuracy: 0.8493 - val_loss: 0.5206 - val_accuracy: 0.8493\n",
      "Epoch 25/100\n",
      "32/32 [==============================] - 0s 8ms/step - loss: 0.5131 - accuracy: 0.8523 - val_loss: 0.5112 - val_accuracy: 0.8539\n",
      "Epoch 26/100\n",
      "32/32 [==============================] - 0s 5ms/step - loss: 0.5038 - accuracy: 0.8503 - val_loss: 0.5024 - val_accuracy: 0.8584\n",
      "Epoch 27/100\n",
      "32/32 [==============================] - 0s 12ms/step - loss: 0.4946 - accuracy: 0.8542 - val_loss: 0.4922 - val_accuracy: 0.8539\n",
      "Epoch 28/100\n",
      "32/32 [==============================] - 1s 21ms/step - loss: 0.4854 - accuracy: 0.8532 - val_loss: 0.4827 - val_accuracy: 0.8584\n",
      "Epoch 29/100\n",
      "32/32 [==============================] - 0s 12ms/step - loss: 0.4759 - accuracy: 0.8571 - val_loss: 0.4745 - val_accuracy: 0.8584\n",
      "Epoch 30/100\n",
      "32/32 [==============================] - 1s 27ms/step - loss: 0.4674 - accuracy: 0.8581 - val_loss: 0.4643 - val_accuracy: 0.8630\n",
      "Epoch 31/100\n",
      "32/32 [==============================] - 0s 12ms/step - loss: 0.4586 - accuracy: 0.8601 - val_loss: 0.4559 - val_accuracy: 0.8584\n",
      "Epoch 32/100\n",
      "32/32 [==============================] - 1s 23ms/step - loss: 0.4500 - accuracy: 0.8650 - val_loss: 0.4467 - val_accuracy: 0.8584\n",
      "Epoch 33/100\n",
      "32/32 [==============================] - 0s 11ms/step - loss: 0.4418 - accuracy: 0.8611 - val_loss: 0.4381 - val_accuracy: 0.8630\n",
      "Epoch 34/100\n",
      "32/32 [==============================] - 0s 13ms/step - loss: 0.4338 - accuracy: 0.8601 - val_loss: 0.4301 - val_accuracy: 0.8584\n",
      "Epoch 35/100\n",
      "32/32 [==============================] - 0s 13ms/step - loss: 0.4261 - accuracy: 0.8562 - val_loss: 0.4220 - val_accuracy: 0.8584\n",
      "Epoch 36/100\n",
      "32/32 [==============================] - 0s 6ms/step - loss: 0.4186 - accuracy: 0.8620 - val_loss: 0.4147 - val_accuracy: 0.8584\n",
      "Epoch 37/100\n",
      "32/32 [==============================] - 0s 11ms/step - loss: 0.4115 - accuracy: 0.8630 - val_loss: 0.4068 - val_accuracy: 0.8630\n",
      "Epoch 38/100\n",
      "32/32 [==============================] - 0s 12ms/step - loss: 0.4048 - accuracy: 0.8611 - val_loss: 0.4002 - val_accuracy: 0.8630\n",
      "Epoch 39/100\n",
      "32/32 [==============================] - 0s 14ms/step - loss: 0.3981 - accuracy: 0.8669 - val_loss: 0.3941 - val_accuracy: 0.8584\n",
      "Epoch 40/100\n",
      "32/32 [==============================] - 0s 13ms/step - loss: 0.3920 - accuracy: 0.8699 - val_loss: 0.3874 - val_accuracy: 0.8584\n",
      "Epoch 41/100\n",
      "32/32 [==============================] - 0s 12ms/step - loss: 0.3863 - accuracy: 0.8689 - val_loss: 0.3812 - val_accuracy: 0.8676\n",
      "Epoch 42/100\n",
      "32/32 [==============================] - 0s 7ms/step - loss: 0.3803 - accuracy: 0.8689 - val_loss: 0.3754 - val_accuracy: 0.8630\n",
      "Epoch 43/100\n",
      "32/32 [==============================] - 0s 4ms/step - loss: 0.3749 - accuracy: 0.8748 - val_loss: 0.3692 - val_accuracy: 0.8584\n",
      "Epoch 44/100\n",
      "32/32 [==============================] - 0s 2ms/step - loss: 0.3702 - accuracy: 0.8659 - val_loss: 0.3653 - val_accuracy: 0.8584\n",
      "Epoch 45/100\n",
      "32/32 [==============================] - 0s 5ms/step - loss: 0.3655 - accuracy: 0.8708 - val_loss: 0.3592 - val_accuracy: 0.8630\n",
      "Epoch 46/100\n",
      "32/32 [==============================] - 0s 3ms/step - loss: 0.3609 - accuracy: 0.8748 - val_loss: 0.3541 - val_accuracy: 0.8584\n",
      "Epoch 47/100\n",
      "32/32 [==============================] - 0s 2ms/step - loss: 0.3565 - accuracy: 0.8728 - val_loss: 0.3497 - val_accuracy: 0.8584\n",
      "Epoch 48/100\n",
      "32/32 [==============================] - 0s 2ms/step - loss: 0.3525 - accuracy: 0.8738 - val_loss: 0.3457 - val_accuracy: 0.8630\n",
      "Epoch 49/100\n",
      "32/32 [==============================] - 0s 3ms/step - loss: 0.3484 - accuracy: 0.8796 - val_loss: 0.3420 - val_accuracy: 0.8676\n",
      "Epoch 50/100\n",
      "32/32 [==============================] - 0s 2ms/step - loss: 0.3447 - accuracy: 0.8767 - val_loss: 0.3388 - val_accuracy: 0.8584\n",
      "Epoch 51/100\n",
      "32/32 [==============================] - 0s 3ms/step - loss: 0.3416 - accuracy: 0.8757 - val_loss: 0.3337 - val_accuracy: 0.8584\n",
      "Epoch 52/100\n",
      "32/32 [==============================] - 0s 7ms/step - loss: 0.3385 - accuracy: 0.8757 - val_loss: 0.3306 - val_accuracy: 0.8630\n",
      "Epoch 53/100\n",
      "32/32 [==============================] - 0s 15ms/step - loss: 0.3349 - accuracy: 0.8777 - val_loss: 0.3272 - val_accuracy: 0.8584\n",
      "Epoch 54/100\n",
      "32/32 [==============================] - 1s 17ms/step - loss: 0.3327 - accuracy: 0.8845 - val_loss: 0.3260 - val_accuracy: 0.8584\n",
      "Epoch 55/100\n",
      "32/32 [==============================] - 1s 24ms/step - loss: 0.3297 - accuracy: 0.8845 - val_loss: 0.3210 - val_accuracy: 0.8630\n",
      "Epoch 56/100\n",
      "32/32 [==============================] - 0s 8ms/step - loss: 0.3271 - accuracy: 0.8845 - val_loss: 0.3186 - val_accuracy: 0.8630\n",
      "Epoch 57/100\n",
      "32/32 [==============================] - 0s 4ms/step - loss: 0.3243 - accuracy: 0.8855 - val_loss: 0.3156 - val_accuracy: 0.8630\n",
      "Epoch 58/100\n",
      "32/32 [==============================] - 0s 3ms/step - loss: 0.3226 - accuracy: 0.8806 - val_loss: 0.3140 - val_accuracy: 0.8676\n",
      "Epoch 59/100\n",
      "32/32 [==============================] - 0s 3ms/step - loss: 0.3202 - accuracy: 0.8885 - val_loss: 0.3110 - val_accuracy: 0.8630\n",
      "Epoch 60/100\n",
      "32/32 [==============================] - 0s 3ms/step - loss: 0.3177 - accuracy: 0.8816 - val_loss: 0.3098 - val_accuracy: 0.8630\n",
      "Epoch 61/100\n",
      "32/32 [==============================] - 0s 2ms/step - loss: 0.3155 - accuracy: 0.8865 - val_loss: 0.3063 - val_accuracy: 0.8630\n",
      "Epoch 62/100\n",
      "32/32 [==============================] - 0s 3ms/step - loss: 0.3140 - accuracy: 0.8787 - val_loss: 0.3046 - val_accuracy: 0.8630\n",
      "Epoch 63/100\n",
      "32/32 [==============================] - 0s 2ms/step - loss: 0.3122 - accuracy: 0.8855 - val_loss: 0.3030 - val_accuracy: 0.8584\n",
      "Epoch 64/100\n",
      "32/32 [==============================] - 0s 2ms/step - loss: 0.3097 - accuracy: 0.8904 - val_loss: 0.3006 - val_accuracy: 0.8676\n",
      "Epoch 65/100\n",
      "32/32 [==============================] - 0s 2ms/step - loss: 0.3083 - accuracy: 0.8816 - val_loss: 0.3002 - val_accuracy: 0.8630\n",
      "Epoch 66/100\n",
      "32/32 [==============================] - 0s 2ms/step - loss: 0.3071 - accuracy: 0.8875 - val_loss: 0.2984 - val_accuracy: 0.8630\n",
      "Epoch 67/100\n",
      "32/32 [==============================] - 0s 2ms/step - loss: 0.3059 - accuracy: 0.8875 - val_loss: 0.2962 - val_accuracy: 0.8676\n",
      "Epoch 68/100\n",
      "32/32 [==============================] - 0s 2ms/step - loss: 0.3039 - accuracy: 0.8836 - val_loss: 0.2960 - val_accuracy: 0.8630\n",
      "Epoch 69/100\n",
      "32/32 [==============================] - 0s 2ms/step - loss: 0.3017 - accuracy: 0.8875 - val_loss: 0.2928 - val_accuracy: 0.8721\n",
      "Epoch 70/100\n",
      "32/32 [==============================] - 0s 3ms/step - loss: 0.3013 - accuracy: 0.8855 - val_loss: 0.2914 - val_accuracy: 0.8676\n",
      "Epoch 71/100\n",
      "32/32 [==============================] - 0s 14ms/step - loss: 0.2987 - accuracy: 0.8904 - val_loss: 0.2934 - val_accuracy: 0.8584\n",
      "Epoch 72/100\n",
      "32/32 [==============================] - 1s 20ms/step - loss: 0.2979 - accuracy: 0.8865 - val_loss: 0.2913 - val_accuracy: 0.8630\n",
      "Epoch 73/100\n",
      "32/32 [==============================] - 1s 18ms/step - loss: 0.2972 - accuracy: 0.8904 - val_loss: 0.2885 - val_accuracy: 0.8630\n",
      "Epoch 74/100\n",
      "32/32 [==============================] - 1s 28ms/step - loss: 0.2960 - accuracy: 0.8865 - val_loss: 0.2862 - val_accuracy: 0.8630\n",
      "Epoch 75/100\n",
      "32/32 [==============================] - 0s 12ms/step - loss: 0.2941 - accuracy: 0.8836 - val_loss: 0.2870 - val_accuracy: 0.8676\n",
      "Epoch 76/100\n",
      "32/32 [==============================] - 1s 21ms/step - loss: 0.2936 - accuracy: 0.8973 - val_loss: 0.2844 - val_accuracy: 0.8676 0s - loss: 0.2782 - accuracy: 0.\n",
      "Epoch 77/100\n",
      "32/32 [==============================] - 1s 31ms/step - loss: 0.2921 - accuracy: 0.8904 - val_loss: 0.2829 - val_accuracy: 0.8676\n",
      "Epoch 78/100\n",
      "32/32 [==============================] - 1s 29ms/step - loss: 0.2910 - accuracy: 0.8865 - val_loss: 0.2825 - val_accuracy: 0.8676\n",
      "Epoch 79/100\n",
      "32/32 [==============================] - 0s 13ms/step - loss: 0.2902 - accuracy: 0.8875 - val_loss: 0.2823 - val_accuracy: 0.8676\n",
      "Epoch 80/100\n",
      "32/32 [==============================] - 1s 20ms/step - loss: 0.2886 - accuracy: 0.8943 - val_loss: 0.2802 - val_accuracy: 0.8630\n",
      "Epoch 81/100\n",
      "32/32 [==============================] - 0s 11ms/step - loss: 0.2873 - accuracy: 0.8914 - val_loss: 0.2791 - val_accuracy: 0.8630\n",
      "Epoch 82/100\n",
      "32/32 [==============================] - 0s 12ms/step - loss: 0.2866 - accuracy: 0.8885 - val_loss: 0.2784 - val_accuracy: 0.8630\n",
      "Epoch 83/100\n",
      "32/32 [==============================] - 0s 11ms/step - loss: 0.2857 - accuracy: 0.8894 - val_loss: 0.2773 - val_accuracy: 0.8630\n",
      "Epoch 84/100\n",
      "32/32 [==============================] - 0s 15ms/step - loss: 0.2851 - accuracy: 0.8904 - val_loss: 0.2765 - val_accuracy: 0.8630\n",
      "Epoch 85/100\n",
      "32/32 [==============================] - 0s 10ms/step - loss: 0.2847 - accuracy: 0.8914 - val_loss: 0.2763 - val_accuracy: 0.8676\n",
      "Epoch 86/100\n",
      "32/32 [==============================] - 0s 13ms/step - loss: 0.2834 - accuracy: 0.8943 - val_loss: 0.2771 - val_accuracy: 0.8676\n",
      "Epoch 87/100\n",
      "32/32 [==============================] - 0s 8ms/step - loss: 0.2823 - accuracy: 0.8904 - val_loss: 0.2741 - val_accuracy: 0.8630\n",
      "Epoch 88/100\n",
      "32/32 [==============================] - ETA: 0s - loss: 0.2948 - accuracy: 0.88 - 0s 4ms/step - loss: 0.2808 - accuracy: 0.8933 - val_loss: 0.2760 - val_accuracy: 0.8676\n",
      "Epoch 89/100\n",
      "32/32 [==============================] - 0s 3ms/step - loss: 0.2804 - accuracy: 0.8914 - val_loss: 0.2726 - val_accuracy: 0.8630\n",
      "Epoch 90/100\n",
      "32/32 [==============================] - 0s 3ms/step - loss: 0.2800 - accuracy: 0.8933 - val_loss: 0.2728 - val_accuracy: 0.8676\n",
      "Epoch 91/100\n",
      "32/32 [==============================] - 0s 3ms/step - loss: 0.2793 - accuracy: 0.8933 - val_loss: 0.2718 - val_accuracy: 0.8676\n",
      "Epoch 92/100\n",
      "32/32 [==============================] - 0s 2ms/step - loss: 0.2791 - accuracy: 0.8914 - val_loss: 0.2714 - val_accuracy: 0.8676\n",
      "Epoch 93/100\n",
      "32/32 [==============================] - 0s 4ms/step - loss: 0.2780 - accuracy: 0.8904 - val_loss: 0.2700 - val_accuracy: 0.8676\n",
      "Epoch 94/100\n",
      "32/32 [==============================] - 0s 3ms/step - loss: 0.2775 - accuracy: 0.8933 - val_loss: 0.2695 - val_accuracy: 0.8676\n",
      "Epoch 95/100\n",
      "32/32 [==============================] - 0s 3ms/step - loss: 0.2764 - accuracy: 0.8933 - val_loss: 0.2696 - val_accuracy: 0.8676\n",
      "Epoch 96/100\n",
      "32/32 [==============================] - 0s 4ms/step - loss: 0.2760 - accuracy: 0.8943 - val_loss: 0.2685 - val_accuracy: 0.8676\n",
      "Epoch 97/100\n",
      "32/32 [==============================] - 0s 3ms/step - loss: 0.2746 - accuracy: 0.8953 - val_loss: 0.2675 - val_accuracy: 0.8767\n",
      "Epoch 98/100\n",
      "32/32 [==============================] - 0s 2ms/step - loss: 0.2747 - accuracy: 0.8943 - val_loss: 0.2673 - val_accuracy: 0.8676\n",
      "Epoch 99/100\n",
      "32/32 [==============================] - 0s 2ms/step - loss: 0.2734 - accuracy: 0.8933 - val_loss: 0.2691 - val_accuracy: 0.8676\n",
      "Epoch 100/100\n",
      "32/32 [==============================] - 0s 2ms/step - loss: 0.2737 - accuracy: 0.8933 - val_loss: 0.2665 - val_accuracy: 0.8676\n"
     ]
    }
   ],
   "source": [
    "hist = model.fit(X_train, Y_train,\n",
    "          batch_size=32, epochs=100,\n",
    "          validation_data=(X_val, Y_val))"
   ]
  },
  {
   "cell_type": "code",
   "execution_count": 47,
   "id": "understanding-remainder",
   "metadata": {},
   "outputs": [
    {
     "name": "stdout",
     "output_type": "stream",
     "text": [
      "7/7 [==============================] - 0s 2ms/step - loss: 0.2618 - accuracy: 0.8904\n"
     ]
    },
    {
     "data": {
      "text/plain": [
       "0.8904109597206116"
      ]
     },
     "execution_count": 47,
     "metadata": {},
     "output_type": "execute_result"
    }
   ],
   "source": [
    "model.evaluate(X_test, Y_test)[1]"
   ]
  },
  {
   "cell_type": "code",
   "execution_count": 48,
   "id": "protecting-nevada",
   "metadata": {},
   "outputs": [],
   "source": [
    "import matplotlib.pyplot as plt"
   ]
  },
  {
   "cell_type": "code",
   "execution_count": 49,
   "id": "excess-craps",
   "metadata": {},
   "outputs": [
    {
     "data": {
      "image/png": "[encoded data removed]",
      "text/plain": [
       "<Figure size 432x288 with 1 Axes>"
      ]
     },
     "metadata": {
      "needs_background": "light"
     },
     "output_type": "display_data"
    }
   ],
   "source": [
    "plt.plot(hist.history['loss'])\n",
    "plt.plot(hist.history['val_loss'])\n",
    "plt.title('Model loss')\n",
    "plt.ylabel('Loss')\n",
    "plt.xlabel('Epoch')\n",
    "plt.legend(['Train', 'Val'], loc='upper right')\n",
    "plt.show()"
   ]
  },
  {
   "cell_type": "code",
   "execution_count": 50,
   "id": "typical-maldives",
   "metadata": {},
   "outputs": [
    {
     "data": {
      "image/png": "[encoded data removed]",
      "text/plain": [
       "<Figure size 432x288 with 1 Axes>"
      ]
     },
     "metadata": {
      "needs_background": "light"
     },
     "output_type": "display_data"
    }
   ],
   "source": [
    "plt.plot(hist.history['accuracy'])\n",
    "plt.plot(hist.history['val_accuracy'])\n",
    "plt.title('Model accuracy')\n",
    "plt.ylabel('Accuracy')\n",
    "plt.xlabel('Epoch')\n",
    "plt.legend(['Train', 'Val'], loc='lower right')\n",
    "plt.show()"
   ]
  },
  {
   "cell_type": "code",
   "execution_count": null,
   "id": "polished-unknown",
   "metadata": {},
   "outputs": [],
   "source": []
  }
 ],
 "metadata": {
  "kernelspec": {
   "display_name": "Python 3",
   "language": "python",
   "name": "python3"
  },
  "language_info": {
   "codemirror_mode": {
    "name": "ipython",
    "version": 3
   },
   "file_extension": ".py",
   "mimetype": "text/x-python",
   "name": "python",
   "nbconvert_exporter": "python",
   "pygments_lexer": "ipython3",
   "version": "3.7.9"
  }
 },
 "nbformat": 4,
 "nbformat_minor": 5
}
